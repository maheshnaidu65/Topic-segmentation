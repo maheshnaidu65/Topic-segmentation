{
 "cells": [
  {
   "cell_type": "markdown",
   "metadata": {},
   "source": [
    "### Topic segementation engine to recognize category of news articles - Dataset preparation"
   ]
  },
  {
   "cell_type": "markdown",
   "metadata": {},
   "source": [
    "This code reads through all the.txt files containing news aticles/ headings and inserts the contents into a dataframe. The dataframe is then picked (stored) in a separate file to be used for modeling a neural network based classifier. "
   ]
  },
  {
   "cell_type": "code",
   "execution_count": 1,
   "metadata": {},
   "outputs": [],
   "source": [
    "import os\n",
    "import pandas as pd\n",
    "import numpy as np"
   ]
  },
  {
   "cell_type": "code",
   "execution_count": 2,
   "metadata": {},
   "outputs": [],
   "source": [
    "# business data\n",
    "business = []\n",
    "path = 'C:/Users/DELL/Desktop/bbc-fulltext/bbc/business/'\n",
    "filelist = os.listdir(path)\n",
    "for file in filelist:\n",
    "    f = open(os.path.join(path + file),'r')\n",
    "    contents = f.read()\n",
    "    business.append(contents)\n",
    "    f.close()"
   ]
  },
  {
   "cell_type": "code",
   "execution_count": 3,
   "metadata": {},
   "outputs": [],
   "source": [
    "data = pd.DataFrame()\n",
    "data['Text'] = business"
   ]
  },
  {
   "cell_type": "code",
   "execution_count": 4,
   "metadata": {},
   "outputs": [],
   "source": [
    "data['Label'] = 0"
   ]
  },
  {
   "cell_type": "code",
   "execution_count": 5,
   "metadata": {},
   "outputs": [],
   "source": [
    "#entertainment data\n",
    "entertainment = []\n",
    "path = 'C:/Users/DELL/Desktop/bbc-fulltext/bbc/entertainment/'\n",
    "filelist = os.listdir(path)\n",
    "for file in filelist:\n",
    "    f = open(os.path.join(path + file),'r')\n",
    "    contents = f.read()\n",
    "    entertainment.append(contents)\n",
    "    f.close()"
   ]
  },
  {
   "cell_type": "code",
   "execution_count": 6,
   "metadata": {},
   "outputs": [],
   "source": [
    "data2 = pd.DataFrame()\n",
    "data2['Text'] = entertainment\n",
    "data2['Label'] = 1"
   ]
  },
  {
   "cell_type": "code",
   "execution_count": 7,
   "metadata": {},
   "outputs": [],
   "source": [
    "#politics data\n",
    "politics = []\n",
    "path = 'C:/Users/DELL/Desktop/bbc-fulltext/bbc/politics/'\n",
    "filelist = os.listdir(path)\n",
    "for file in filelist:\n",
    "    f = open(os.path.join(path + file),'r')\n",
    "    contents = f.read()\n",
    "    politics.append(contents)\n",
    "    f.close()"
   ]
  },
  {
   "cell_type": "code",
   "execution_count": 8,
   "metadata": {},
   "outputs": [],
   "source": [
    "data3 = pd.DataFrame()\n",
    "data3['Text'] = politics\n",
    "data3['Label'] = 2"
   ]
  },
  {
   "cell_type": "code",
   "execution_count": 9,
   "metadata": {},
   "outputs": [],
   "source": [
    "#sports data\n",
    "sports = []\n",
    "path = 'C:/Users/DELL/Desktop/bbc-fulltext/bbc/sport/'\n",
    "filelist = os.listdir(path)\n",
    "for file in filelist:\n",
    "    f = open(os.path.join(path + file),'r')\n",
    "    contents = f.read()\n",
    "    sports.append(contents)\n",
    "    f.close()"
   ]
  },
  {
   "cell_type": "code",
   "execution_count": 10,
   "metadata": {},
   "outputs": [],
   "source": [
    "data4 = pd.DataFrame()\n",
    "data4['Text'] = sports\n",
    "data4['Label'] = 3"
   ]
  },
  {
   "cell_type": "code",
   "execution_count": 11,
   "metadata": {},
   "outputs": [],
   "source": [
    "#tech data\n",
    "tech = []\n",
    "path = 'C:/Users/DELL/Desktop/bbc-fulltext/bbc/tech/'\n",
    "filelist = os.listdir(path)\n",
    "for file in filelist:\n",
    "    f = open(os.path.join(path + file),'r')\n",
    "    contents = f.read()\n",
    "    tech.append(contents)\n",
    "    f.close()"
   ]
  },
  {
   "cell_type": "code",
   "execution_count": 12,
   "metadata": {},
   "outputs": [],
   "source": [
    "data5 = pd.DataFrame()\n",
    "data5['Text'] = tech\n",
    "data5['Label'] = 4"
   ]
  },
  {
   "cell_type": "code",
   "execution_count": 13,
   "metadata": {},
   "outputs": [],
   "source": [
    "frames = [data,data2,data3,data4,data5]\n",
    "dataset = pd.concat(frames)"
   ]
  },
  {
   "cell_type": "code",
   "execution_count": 14,
   "metadata": {},
   "outputs": [
    {
     "data": {
      "text/html": [
       "<div>\n",
       "<style scoped>\n",
       "    .dataframe tbody tr th:only-of-type {\n",
       "        vertical-align: middle;\n",
       "    }\n",
       "\n",
       "    .dataframe tbody tr th {\n",
       "        vertical-align: top;\n",
       "    }\n",
       "\n",
       "    .dataframe thead th {\n",
       "        text-align: right;\n",
       "    }\n",
       "</style>\n",
       "<table border=\"1\" class=\"dataframe\">\n",
       "  <thead>\n",
       "    <tr style=\"text-align: right;\">\n",
       "      <th></th>\n",
       "      <th>Text</th>\n",
       "      <th>Label</th>\n",
       "    </tr>\n",
       "  </thead>\n",
       "  <tbody>\n",
       "    <tr>\n",
       "      <th>0</th>\n",
       "      <td>Ad sales boost Time Warner profit\\n\\nQuarterly...</td>\n",
       "      <td>0</td>\n",
       "    </tr>\n",
       "    <tr>\n",
       "      <th>1</th>\n",
       "      <td>Dollar gains on Greenspan speech\\n\\nThe dollar...</td>\n",
       "      <td>0</td>\n",
       "    </tr>\n",
       "    <tr>\n",
       "      <th>2</th>\n",
       "      <td>Yukos unit buyer faces loan claim\\n\\nThe owner...</td>\n",
       "      <td>0</td>\n",
       "    </tr>\n",
       "    <tr>\n",
       "      <th>3</th>\n",
       "      <td>High fuel prices hit BA's profits\\n\\nBritish A...</td>\n",
       "      <td>0</td>\n",
       "    </tr>\n",
       "    <tr>\n",
       "      <th>4</th>\n",
       "      <td>Pernod takeover talk lifts Domecq\\n\\nShares in...</td>\n",
       "      <td>0</td>\n",
       "    </tr>\n",
       "  </tbody>\n",
       "</table>\n",
       "</div>"
      ],
      "text/plain": [
       "                                                Text  Label\n",
       "0  Ad sales boost Time Warner profit\\n\\nQuarterly...      0\n",
       "1  Dollar gains on Greenspan speech\\n\\nThe dollar...      0\n",
       "2  Yukos unit buyer faces loan claim\\n\\nThe owner...      0\n",
       "3  High fuel prices hit BA's profits\\n\\nBritish A...      0\n",
       "4  Pernod takeover talk lifts Domecq\\n\\nShares in...      0"
      ]
     },
     "execution_count": 14,
     "metadata": {},
     "output_type": "execute_result"
    }
   ],
   "source": [
    "dataset.head()"
   ]
  },
  {
   "cell_type": "code",
   "execution_count": 15,
   "metadata": {},
   "outputs": [],
   "source": [
    "dataset.to_pickle('topic_bbc_all')"
   ]
  }
 ],
 "metadata": {
  "kernelspec": {
   "display_name": "Python 3",
   "language": "python",
   "name": "python3"
  },
  "language_info": {
   "codemirror_mode": {
    "name": "ipython",
    "version": 3
   },
   "file_extension": ".py",
   "mimetype": "text/x-python",
   "name": "python",
   "nbconvert_exporter": "python",
   "pygments_lexer": "ipython3",
   "version": "3.6.7"
  }
 },
 "nbformat": 4,
 "nbformat_minor": 2
}
